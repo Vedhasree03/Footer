{
  "nbformat": 4,
  "nbformat_minor": 0,
  "metadata": {
    "colab": {
      "provenance": [],
      "authorship_tag": "ABX9TyMO1ALOoMr8UFkAf0D1eB2K",
      "include_colab_link": true
    },
    "kernelspec": {
      "name": "python3",
      "display_name": "Python 3"
    },
    "language_info": {
      "name": "python"
    }
  },
  "cells": [
    {
      "cell_type": "markdown",
      "metadata": {
        "id": "view-in-github",
        "colab_type": "text"
      },
      "source": [
        "<a href=\"https://colab.research.google.com/github/Vedhasree03/Footer/blob/main/Untitled0.ipynb\" target=\"_parent\"><img src=\"https://colab.research.google.com/assets/colab-badge.svg\" alt=\"Open In Colab\"/></a>"
      ]
    },
    {
      "cell_type": "code",
      "source": [],
      "metadata": {
        "id": "dZkei9PYTYBT"
      },
      "execution_count": null,
      "outputs": []
    },
    {
      "cell_type": "code",
      "execution_count": 2,
      "metadata": {
        "colab": {
          "base_uri": "https://localhost:8080/"
        },
        "id": "Wn2yTuVrSXVe",
        "outputId": "40066747-6f9e-4443-9bfc-b808f377900f"
      },
      "outputs": [
        {
          "output_type": "stream",
          "name": "stdout",
          "text": [
            "[[13  4  9  4]\n",
            " [12  7 11 10]\n",
            " [ 9  2  9 11]]\n",
            "MAX :  [13 12 11]\n",
            "MIN:  [4 7 2]\n",
            "SUM:  [30 40 31]\n"
          ]
        }
      ],
      "source": [
        "import numpy as np\n",
        "\n",
        "arr1=np.random.randint(1,15,(3,4))\n",
        "print(arr1)\n",
        "print('MAX : ',arr1.max(axis=1))\n",
        "print('MIN: ',arr1.min(axis=1))\n",
        "print('SUM: ',arr1.sum(axis=1))"
      ]
    }
  ]
}